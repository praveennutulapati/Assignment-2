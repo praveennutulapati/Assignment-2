{
 "cells": [
  {
   "cell_type": "code",
   "execution_count": 20,
   "id": "d94e6daa",
   "metadata": {},
   "outputs": [
    {
     "name": "stdout",
     "output_type": "stream",
     "text": [
      "*  \n",
      "*  *  \n",
      "*  *  *  \n",
      "*  *  *  *  \n",
      "*  *  *  *  *  \n",
      "*  *  *  *  \n",
      "*  *  *  \n",
      "*  *  \n",
      "*  \n"
     ]
    }
   ],
   "source": [
    "n = 5 \n",
    "for i in range(n): \n",
    "   for j in range(i+1): \n",
    "      print('* ', end=' ')\n",
    "   print()\n",
    "n = 4 \n",
    "for i in range(n): \n",
    "   for j in range(i, n): \n",
    "      print('* ', end=' ')\n",
    "   print()"
   ]
  },
  {
   "cell_type": "code",
   "execution_count": 14,
   "id": "5cf0b4d3",
   "metadata": {},
   "outputs": [
    {
     "name": "stdout",
     "output_type": "stream",
     "text": [
      "20\n",
      "40\n",
      "60\n",
      "80\n",
      "100\n"
     ]
    }
   ],
   "source": [
    "myList = [10, 20, 30, 40, 50, 60, 70, 80, 90, 100]\n",
    "for i in range(1, len(myList), 2):\n",
    "    print(myList[i])\n"
   ]
  },
  {
   "cell_type": "code",
   "execution_count": 15,
   "id": "e470b1ea",
   "metadata": {},
   "outputs": [
    {
     "name": "stdout",
     "output_type": "stream",
     "text": [
      "[23, 'Python', 23.98]\n",
      "[<class 'int'>, <class 'str'>, <class 'float'>]\n"
     ]
    }
   ],
   "source": [
    "x = [23, 'Python', 23.98]\n",
    "\n",
    "types = []\n",
    "for item in x:\n",
    "    types.append(type(item))\n",
    "\n",
    "print(x)\n",
    "print(types)"
   ]
  },
  {
   "cell_type": "code",
   "execution_count": 19,
   "id": "d609cb43",
   "metadata": {},
   "outputs": [
    {
     "name": "stdout",
     "output_type": "stream",
     "text": [
      "[1, 2, 3, 4, 5]\n"
     ]
    }
   ],
   "source": [
    "def getUniqueList(inputList):\n",
    "    return list(set(inputList))\n",
    "\n",
    "sampleList = [1, 2, 3, 3, 3, 3, 4, 5]\n",
    "uniqueList = getUniqueList(sampleList)\n",
    "\n",
    "print(uniqueList)"
   ]
  },
  {
   "cell_type": "code",
   "execution_count": 21,
   "id": "a52e17bf",
   "metadata": {},
   "outputs": [
    {
     "name": "stdout",
     "output_type": "stream",
     "text": [
      "No. of Upper-Case characters: 3\n",
      "No. of Lower-Case characters: 12\n"
     ]
    }
   ],
   "source": [
    "def letterCaseCount(string):\n",
    "    upperCount = 0\n",
    "    lowerCount = 0\n",
    "    for char in string:\n",
    "        if char.isupper():\n",
    "            upperCount += 1\n",
    "        elif char.islower():\n",
    "            lowerCount += 1\n",
    "    return upperCount, lowerCount\n",
    "\n",
    "inputString = 'The quick Brow Fox'\n",
    "upperCount, lowerCount = letterCaseCount(inputString)\n",
    "\n",
    "print(\"No. of Upper-Case characters:\", upperCount)\n",
    "print(\"No. of Lower-Case characters:\", lowerCount)"
   ]
  },
  {
   "cell_type": "code",
   "execution_count": null,
   "id": "062418e8",
   "metadata": {},
   "outputs": [],
   "source": []
  }
 ],
 "metadata": {
  "kernelspec": {
   "display_name": "Python 3 (ipykernel)",
   "language": "python",
   "name": "python3"
  },
  "language_info": {
   "codemirror_mode": {
    "name": "ipython",
    "version": 3
   },
   "file_extension": ".py",
   "mimetype": "text/x-python",
   "name": "python",
   "nbconvert_exporter": "python",
   "pygments_lexer": "ipython3",
   "version": "3.9.13"
  }
 },
 "nbformat": 4,
 "nbformat_minor": 5
}
